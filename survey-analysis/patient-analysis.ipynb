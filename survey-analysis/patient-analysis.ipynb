{
 "cells": [
  {
   "cell_type": "markdown",
   "metadata": {},
   "source": [
    "## Patient Analysis\n",
    "This notebook is responsible for analyzing the \"patient\" survey responses that have been collected from this [survey](https://forms.gle/axv3s55uio7RmGZT6)"
   ]
  },
  {
   "cell_type": "markdown",
   "metadata": {},
   "source": [
    "## Questions that we want to answer\n",
    "1. We want to know how likely it is that users will use a pickup box for prescriptions based on their age range\n",
    "Why? We want to know if our proposed solution will have a high customer acceptance rate\n",
    "2. We want to know what patients believe is the mean acceptable amount of time to wait to pick up prescriptions\n",
    "Why? We want to have a benchmark by which we can determine if our solution meets the needs of customers.\n",
    "3. What is the probability of acceptance for a particular user cohort?\n"
   ]
  }
 ],
 "metadata": {
  "language_info": {
   "name": "python"
  },
  "orig_nbformat": 4
 },
 "nbformat": 4,
 "nbformat_minor": 2
}
