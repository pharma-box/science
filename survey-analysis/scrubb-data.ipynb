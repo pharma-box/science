{
 "cells": [
  {
   "cell_type": "markdown",
   "metadata": {},
   "source": [
    "## Scrubbing User Data\n",
    "We want to ensure that the data that we analyze is scrubbed so that no trace-able information is related to individual data points."
   ]
  },
  {
   "cell_type": "markdown",
   "metadata": {},
   "source": [
    "Import Dependencies"
   ]
  },
  {
   "cell_type": "code",
   "execution_count": 12,
   "metadata": {},
   "outputs": [],
   "source": [
    "# import dependencies\n",
    "import numpy as np\n",
    "import matplotlib.pyplot as plt\n",
    "import scipy.optimize as sci\n",
    "import pandas as pd"
   ]
  },
  {
   "cell_type": "markdown",
   "metadata": {},
   "source": [
    "Load our raw data in the form of `CSV` into data frames. Raw data should be located in `./raw-data/`."
   ]
  },
  {
   "cell_type": "code",
   "execution_count": 13,
   "metadata": {},
   "outputs": [
    {
     "name": "stdout",
     "output_type": "stream",
     "text": [
      "Index(['Timestamp',\n",
      "       'What do you think is an acceptable amount of time to wait for services at your pharmacy?',\n",
      "       'How long do you usually wait at the pharmacy?',\n",
      "       'Have you used Amazon Lockers or a similar pick-up Lockers for before?',\n",
      "       'How likely are you to use an automated pick-up locker to pick up your prescriptions?',\n",
      "       'Email Address', 'What is your age range?',\n",
      "       '(Optional) Provide your email for a chance to win a $20.00 Tim Horton's gift card',\n",
      "       'How often do you usually visit pharmacies in a given year',\n",
      "       'Think about the last time you went to the pharmacy. How would you best describe your experience?'],\n",
      "      dtype='object')\n"
     ]
    }
   ],
   "source": [
    "file_name = input()\n",
    "file_path = \"./raw-data/\" + file_name\n",
    "df = pd.read_csv(file_path)\n",
    "print(df.columns)"
   ]
  },
  {
   "cell_type": "markdown",
   "metadata": {},
   "source": [
    "Prune duplicate emails from the dataset"
   ]
  },
  {
   "cell_type": "code",
   "execution_count": 14,
   "metadata": {},
   "outputs": [
    {
     "name": "stdout",
     "output_type": "stream",
     "text": [
      "9240\n",
      "9240\n"
     ]
    }
   ],
   "source": [
    "drop_column_name = (\n",
    "    \"(Optional) Provide your email for a chance to win a $20.00 Tim Horton's gift card\"\n",
    ")\n",
    "df.drop_duplicates(subset=[drop_column_name])"
   ]
  }
 ],
 "metadata": {
  "kernelspec": {
   "display_name": "Python 3 (ipykernel)",
   "language": "python",
   "name": "python3"
  },
  "language_info": {
   "codemirror_mode": {
    "name": "ipython",
    "version": 3
   },
   "file_extension": ".py",
   "mimetype": "text/x-python",
   "name": "python",
   "nbconvert_exporter": "python",
   "pygments_lexer": "ipython3",
   "version": "3.9.10"
  },
  "vscode": {
   "interpreter": {
    "hash": "ac2eaa0ea0ebeafcc7822e65e46aa9d4f966f30b695406963e145ea4a91cd4fc"
   }
  }
 },
 "nbformat": 4,
 "nbformat_minor": 2
}
