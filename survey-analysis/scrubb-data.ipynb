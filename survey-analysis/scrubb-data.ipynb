{
 "cells": [
  {
   "cell_type": "markdown",
   "metadata": {},
   "source": [
    "## Scrubbing User Data\n",
    "\n",
    "We want to ensure that the data that we analyze is scrubbed so that no trace-able information is related to individual data points.\n"
   ]
  },
  {
   "cell_type": "markdown",
   "metadata": {},
   "source": [
    "Import Dependencies\n"
   ]
  },
  {
   "cell_type": "code",
   "execution_count": null,
   "metadata": {},
   "outputs": [],
   "source": [
    "# import dependencies\n",
    "import numpy as np\n",
    "import matplotlib.pyplot as plt\n",
    "import scipy.optimize as sci\n",
    "import pandas as pd\n",
    "from pathlib import Path"
   ]
  },
  {
   "cell_type": "markdown",
   "metadata": {},
   "source": [
    "Load our raw data in the form of `CSV` into data frames. Raw data should be located in `./raw-data/`.\n"
   ]
  },
  {
   "cell_type": "code",
   "execution_count": null,
   "metadata": {},
   "outputs": [],
   "source": [
    "# file_name = input()\n",
    "file_name = \"responses_raw.csv\"\n",
    "file_path = \"./raw-data/\" + file_name\n",
    "df = pd.read_csv(file_path)"
   ]
  },
  {
   "cell_type": "markdown",
   "metadata": {},
   "source": [
    "Prune duplicate emails from the dataset. This is an easy way to know if someone has submitted multiple responses\n"
   ]
  },
  {
   "cell_type": "code",
   "execution_count": null,
   "metadata": {},
   "outputs": [],
   "source": [
    "col_name = (\n",
    "    \"(Optional) Provide your email for a chance to win a $20.00 Tim Horton's gift card\"\n",
    ")\n",
    "\n",
    "df.drop_duplicates(\n",
    "    subset=[col_name],\n",
    "    keep=\"last\",\n",
    ")"
   ]
  },
  {
   "cell_type": "markdown",
   "metadata": {},
   "source": [
    "Collect the emails and store them separate from data\n"
   ]
  },
  {
   "cell_type": "code",
   "execution_count": null,
   "metadata": {},
   "outputs": [],
   "source": [
    "emails = pd.DataFrame(df[col_name])\n",
    "\n",
    "# rename columns for sanity\n",
    "emails.rename(\n",
    "    columns={col_name: \"email\"},\n",
    "    inplace=True,\n",
    ")\n",
    "# drop duplicates\n",
    "emails.drop_duplicates()\n",
    "\n",
    "# drop blanks\n",
    "emails = emails.dropna()\n",
    "\n",
    "# scamble emails so that are randomly out of order\n",
    "emails = emails.sample(frac=1).reset_index(drop=True)\n",
    "\n",
    "# write file to .csv\n",
    "email_output_file_name = \"emails_for_reward.csv\"\n",
    "filepath = Path(\"./output/\" + email_output_file_name)\n",
    "filepath.parent.mkdir(parents=True, exist_ok=True)\n",
    "emails.to_csv(filepath)"
   ]
  },
  {
   "cell_type": "markdown",
   "metadata": {},
   "source": [
    "With our emails saved, we can now scrubb our data and clean it up so we can use it for analysis\n"
   ]
  },
  {
   "cell_type": "code",
   "execution_count": null,
   "metadata": {},
   "outputs": [],
   "source": [
    "# shuffle the rows and re-index\n",
    "df = df.sample(frac = 1).reset_index(drop=True)\n",
    "\n",
    "# drop columns containing tracable information\n",
    "df.drop(\n",
    "    columns=[\n",
    "        col_name,\n",
    "        \"Email Address\",\n",
    "        \"Timestamp\",\n",
    "        \"How often do you usually visit pharmacies in a given year\",\n",
    "        \"Think about the last time you went to the pharmacy. How would you best describe your experience?\",\n",
    "    ]\n",
    ")\n"
   ]
  }
 ],
 "metadata": {
  "kernelspec": {
   "display_name": "Python 3 (ipykernel)",
   "language": "python",
   "name": "python3"
  },
  "language_info": {
   "codemirror_mode": {
    "name": "ipython",
    "version": 3
   },
   "file_extension": ".py",
   "mimetype": "text/x-python",
   "name": "python",
   "nbconvert_exporter": "python",
   "pygments_lexer": "ipython3",
   "version": "3.9.10"
  },
  "vscode": {
   "interpreter": {
    "hash": "ac2eaa0ea0ebeafcc7822e65e46aa9d4f966f30b695406963e145ea4a91cd4fc"
   }
  }
 },
 "nbformat": 4,
 "nbformat_minor": 2
}
