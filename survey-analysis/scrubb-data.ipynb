{
 "cells": [
  {
   "cell_type": "markdown",
   "metadata": {},
   "source": [
    "## Scrubbing User Data\n",
    "\n",
    "We want to ensure that the data that we analyze is scrubbed so that no trace-able information is related to individual data points.\n"
   ]
  },
  {
   "cell_type": "markdown",
   "metadata": {},
   "source": [
    "Import Dependencies\n"
   ]
  },
  {
   "cell_type": "code",
   "execution_count": null,
   "metadata": {},
   "outputs": [],
   "source": [
    "# import dependencies\n",
    "import numpy as np\n",
    "import matplotlib.pyplot as plt\n",
    "import scipy.optimize as sci\n",
    "import pandas as pd\n",
    "from pathlib import Path\n",
    "import uuid\n",
    "from IPython.display import display, HTML\n",
    "\n",
    "\n",
    "def disp(df):\n",
    "    display(HTML(df.to_html()))"
   ]
  },
  {
   "cell_type": "markdown",
   "metadata": {},
   "source": [
    "Load our raw data in the form of `CSV` into data frames. Raw data should be located in `./raw-data/`.\n"
   ]
  },
  {
   "cell_type": "code",
   "execution_count": null,
   "metadata": {},
   "outputs": [],
   "source": [
    "file_name = input(\"What is the name of the csv file?\")\n",
    "file_path = \"./raw-data/\" + file_name\n",
    "df = pd.read_csv(file_path)"
   ]
  },
  {
   "cell_type": "markdown",
   "metadata": {},
   "source": [
    "Prune duplicate emails from the dataset. This is an easy way to know if someone has submitted multiple responses\n"
   ]
  },
  {
   "cell_type": "code",
   "execution_count": null,
   "metadata": {},
   "outputs": [],
   "source": [
    "col_name = (\n",
    "    \"(Optional) Provide your email for a chance to win a $20.00 Tim Horton's gift card\"\n",
    ")\n",
    "\n",
    "df.drop_duplicates(\n",
    "    subset=[col_name],\n",
    "    keep=\"last\",\n",
    ")"
   ]
  },
  {
   "cell_type": "markdown",
   "metadata": {},
   "source": [
    "Collect the emails and store them separate from data\n"
   ]
  },
  {
   "cell_type": "code",
   "execution_count": null,
   "metadata": {},
   "outputs": [],
   "source": [
    "emails = pd.DataFrame(df[col_name])\n",
    "\n",
    "# rename columns for sanity\n",
    "emails.rename(\n",
    "    columns={col_name: \"email\"},\n",
    "    inplace=True,\n",
    ")\n",
    "# drop duplicates\n",
    "emails.drop_duplicates()\n",
    "\n",
    "# drop blanks\n",
    "emails = emails.dropna()\n",
    "\n",
    "# scamble emails so that are randomly out of order\n",
    "emails = emails.sample(frac=1).reset_index(drop=True)\n",
    "\n",
    "# write file to .csv\n",
    "email_output_file_name = \"emails_for_reward.csv\"\n",
    "filepath = Path(\"./output/\" + email_output_file_name)\n",
    "filepath.parent.mkdir(parents=True, exist_ok=True)\n",
    "emails.to_csv(filepath)"
   ]
  },
  {
   "cell_type": "markdown",
   "metadata": {},
   "source": [
    "With our emails saved, we can now scrubb our data and clean it up so we can use it for analysis\n"
   ]
  },
  {
   "cell_type": "code",
   "execution_count": null,
   "metadata": {},
   "outputs": [],
   "source": [
    "# shuffle the rows and re-index\n",
    "df = df.sample(frac=1).reset_index(drop=True)\n",
    "\n",
    "# drop columns containing tracable information\n",
    "df = df.drop(\n",
    "    columns=[\n",
    "        col_name,\n",
    "        \"Email Address\",\n",
    "        \"Timestamp\",\n",
    "        \"How often do you usually visit pharmacies in a given year\",\n",
    "        \"Think about the last time you went to the pharmacy. How would you best describe your experience?\",\n",
    "    ]\n",
    ")\n",
    "\n",
    "\n",
    "# add a UUID identifier to each row\n",
    "df.insert(0, \"id\", \"\")\n",
    "df[\"id\"] = [uuid.uuid4() for _ in range(len(df.index))]"
   ]
  },
  {
   "cell_type": "markdown",
   "metadata": {},
   "source": [
    "Save the data to `/output` as `patient-survey-data.csv`"
   ]
  },
  {
   "cell_type": "code",
   "execution_count": null,
   "metadata": {},
   "outputs": [],
   "source": [
    "# write file to .csv\n",
    "data_file_name = \"patient-survey-data.csv\"\n",
    "filepath = Path(\"./output/\" + data_file_name)\n",
    "filepath.parent.mkdir(parents=True, exist_ok=True)\n",
    "df.to_csv(filepath)"
   ]
  }
 ],
 "metadata": {
  "kernelspec": {
   "display_name": "Python 3.9.10 64-bit",
   "language": "python",
   "name": "python3"
  },
  "language_info": {
   "codemirror_mode": {
    "name": "ipython",
    "version": 3
   },
   "file_extension": ".py",
   "mimetype": "text/x-python",
   "name": "python",
   "nbconvert_exporter": "python",
   "pygments_lexer": "ipython3",
   "version": "3.9.10"
  },
  "vscode": {
   "interpreter": {
    "hash": "aee8b7b246df8f9039afb4144a1f6fd8d2ca17a180786b69acc140d282b71a49"
   }
  }
 },
 "nbformat": 4,
 "nbformat_minor": 2
}
